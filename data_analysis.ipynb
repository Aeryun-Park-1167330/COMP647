{
 "cells": [
  {
   "cell_type": "code",
   "execution_count": null,
   "id": "3a2cd3f4",
   "metadata": {},
   "outputs": [],
   "source": [
    "import pandas as pd\n",
    "import numpy as np\n",
    "import matplotlib.pyplot as plt\n",
    "import seaborn as sns\n",
    "from sklearn.model_selection import train_test_split\n",
    "\n",
    "# Load dataset\n",
    "df = pd.read_csv('1167330_AeryunPark.csv')"
   ]
  },
  {
   "cell_type": "code",
   "execution_count": null,
   "id": "8596a76d",
   "metadata": {},
   "outputs": [
    {
     "name": "stdout",
     "output_type": "stream",
     "text": [
      "Dataset Shape: (1000, 20)\n",
      "\n",
      "Column names:\n",
      "['Patient_ID', 'Age', 'Gender', 'Weight_kg', 'Height_cm', 'BMI', 'Disease_Type', 'Severity', 'Physical_Activity_Level', 'Daily_Caloric_Intake', 'Cholesterol_mg/dL', 'Blood_Pressure_mmHg', 'Glucose_mg/dL', 'Dietary_Restrictions', 'Allergies', 'Preferred_Cuisine', 'Weekly_Exercise_Hours', 'Adherence_to_Diet_Plan', 'Dietary_Nutrient_Imbalance_Score', 'Diet_Recommendation']\n"
     ]
    }
   ],
   "source": [
    "# Check dataset shape and structure\n",
    "print (\"Dataset Shape:\", df.shape)\n",
    "print(\"\\nColumn names:\")\n",
    "print(df.columns.tolist())"
   ]
  },
  {
   "cell_type": "code",
   "execution_count": null,
   "id": "0724abfb",
   "metadata": {},
   "outputs": [
    {
     "data": {
      "text/html": [
       "<div>\n",
       "<style scoped>\n",
       "    .dataframe tbody tr th:only-of-type {\n",
       "        vertical-align: middle;\n",
       "    }\n",
       "\n",
       "    .dataframe tbody tr th {\n",
       "        vertical-align: top;\n",
       "    }\n",
       "\n",
       "    .dataframe thead th {\n",
       "        text-align: right;\n",
       "    }\n",
       "</style>\n",
       "<table border=\"1\" class=\"dataframe\">\n",
       "  <thead>\n",
       "    <tr style=\"text-align: right;\">\n",
       "      <th></th>\n",
       "      <th>Patient_ID</th>\n",
       "      <th>Age</th>\n",
       "      <th>Gender</th>\n",
       "      <th>Weight_kg</th>\n",
       "      <th>Height_cm</th>\n",
       "      <th>BMI</th>\n",
       "      <th>Disease_Type</th>\n",
       "      <th>Severity</th>\n",
       "      <th>Physical_Activity_Level</th>\n",
       "      <th>Daily_Caloric_Intake</th>\n",
       "      <th>Cholesterol_mg/dL</th>\n",
       "      <th>Blood_Pressure_mmHg</th>\n",
       "      <th>Glucose_mg/dL</th>\n",
       "      <th>Dietary_Restrictions</th>\n",
       "      <th>Allergies</th>\n",
       "      <th>Preferred_Cuisine</th>\n",
       "      <th>Weekly_Exercise_Hours</th>\n",
       "      <th>Adherence_to_Diet_Plan</th>\n",
       "      <th>Dietary_Nutrient_Imbalance_Score</th>\n",
       "      <th>Diet_Recommendation</th>\n",
       "    </tr>\n",
       "  </thead>\n",
       "  <tbody>\n",
       "    <tr>\n",
       "      <th>0</th>\n",
       "      <td>P0001</td>\n",
       "      <td>56</td>\n",
       "      <td>Male</td>\n",
       "      <td>58.4</td>\n",
       "      <td>160</td>\n",
       "      <td>22.8</td>\n",
       "      <td>Obesity</td>\n",
       "      <td>Moderate</td>\n",
       "      <td>Moderate</td>\n",
       "      <td>3079</td>\n",
       "      <td>173.3</td>\n",
       "      <td>133</td>\n",
       "      <td>116.3</td>\n",
       "      <td>NaN</td>\n",
       "      <td>Peanuts</td>\n",
       "      <td>Mexican</td>\n",
       "      <td>3.1</td>\n",
       "      <td>96.6</td>\n",
       "      <td>3.1</td>\n",
       "      <td>Balanced</td>\n",
       "    </tr>\n",
       "    <tr>\n",
       "      <th>1</th>\n",
       "      <td>P0002</td>\n",
       "      <td>69</td>\n",
       "      <td>Male</td>\n",
       "      <td>101.2</td>\n",
       "      <td>169</td>\n",
       "      <td>35.4</td>\n",
       "      <td>Diabetes</td>\n",
       "      <td>Mild</td>\n",
       "      <td>Moderate</td>\n",
       "      <td>3032</td>\n",
       "      <td>199.2</td>\n",
       "      <td>120</td>\n",
       "      <td>137.1</td>\n",
       "      <td>NaN</td>\n",
       "      <td>Peanuts</td>\n",
       "      <td>Chinese</td>\n",
       "      <td>4.5</td>\n",
       "      <td>63.2</td>\n",
       "      <td>0.6</td>\n",
       "      <td>Low_Carb</td>\n",
       "    </tr>\n",
       "    <tr>\n",
       "      <th>2</th>\n",
       "      <td>P0003</td>\n",
       "      <td>46</td>\n",
       "      <td>Female</td>\n",
       "      <td>63.5</td>\n",
       "      <td>173</td>\n",
       "      <td>21.2</td>\n",
       "      <td>Hypertension</td>\n",
       "      <td>Mild</td>\n",
       "      <td>Sedentary</td>\n",
       "      <td>1737</td>\n",
       "      <td>181.0</td>\n",
       "      <td>121</td>\n",
       "      <td>109.6</td>\n",
       "      <td>NaN</td>\n",
       "      <td>Peanuts</td>\n",
       "      <td>Chinese</td>\n",
       "      <td>3.8</td>\n",
       "      <td>57.5</td>\n",
       "      <td>4.6</td>\n",
       "      <td>Low_Sodium</td>\n",
       "    </tr>\n",
       "    <tr>\n",
       "      <th>3</th>\n",
       "      <td>P0004</td>\n",
       "      <td>32</td>\n",
       "      <td>Male</td>\n",
       "      <td>58.1</td>\n",
       "      <td>164</td>\n",
       "      <td>21.6</td>\n",
       "      <td>NaN</td>\n",
       "      <td>Mild</td>\n",
       "      <td>Moderate</td>\n",
       "      <td>2657</td>\n",
       "      <td>168.2</td>\n",
       "      <td>144</td>\n",
       "      <td>159.4</td>\n",
       "      <td>NaN</td>\n",
       "      <td>NaN</td>\n",
       "      <td>Mexican</td>\n",
       "      <td>4.3</td>\n",
       "      <td>54.5</td>\n",
       "      <td>0.4</td>\n",
       "      <td>Balanced</td>\n",
       "    </tr>\n",
       "    <tr>\n",
       "      <th>4</th>\n",
       "      <td>P0005</td>\n",
       "      <td>60</td>\n",
       "      <td>Male</td>\n",
       "      <td>79.5</td>\n",
       "      <td>197</td>\n",
       "      <td>20.5</td>\n",
       "      <td>Diabetes</td>\n",
       "      <td>Moderate</td>\n",
       "      <td>Sedentary</td>\n",
       "      <td>3496</td>\n",
       "      <td>200.4</td>\n",
       "      <td>172</td>\n",
       "      <td>182.3</td>\n",
       "      <td>Low_Sugar</td>\n",
       "      <td>NaN</td>\n",
       "      <td>Italian</td>\n",
       "      <td>9.8</td>\n",
       "      <td>78.2</td>\n",
       "      <td>4.7</td>\n",
       "      <td>Low_Carb</td>\n",
       "    </tr>\n",
       "  </tbody>\n",
       "</table>\n",
       "</div>"
      ],
      "text/plain": [
       "  Patient_ID  Age  Gender  Weight_kg  Height_cm   BMI  Disease_Type  Severity  \\\n",
       "0      P0001   56    Male       58.4        160  22.8       Obesity  Moderate   \n",
       "1      P0002   69    Male      101.2        169  35.4      Diabetes      Mild   \n",
       "2      P0003   46  Female       63.5        173  21.2  Hypertension      Mild   \n",
       "3      P0004   32    Male       58.1        164  21.6           NaN      Mild   \n",
       "4      P0005   60    Male       79.5        197  20.5      Diabetes  Moderate   \n",
       "\n",
       "  Physical_Activity_Level  Daily_Caloric_Intake  Cholesterol_mg/dL  \\\n",
       "0                Moderate                  3079              173.3   \n",
       "1                Moderate                  3032              199.2   \n",
       "2               Sedentary                  1737              181.0   \n",
       "3                Moderate                  2657              168.2   \n",
       "4               Sedentary                  3496              200.4   \n",
       "\n",
       "   Blood_Pressure_mmHg  Glucose_mg/dL Dietary_Restrictions Allergies  \\\n",
       "0                  133          116.3                  NaN   Peanuts   \n",
       "1                  120          137.1                  NaN   Peanuts   \n",
       "2                  121          109.6                  NaN   Peanuts   \n",
       "3                  144          159.4                  NaN       NaN   \n",
       "4                  172          182.3            Low_Sugar       NaN   \n",
       "\n",
       "  Preferred_Cuisine  Weekly_Exercise_Hours  Adherence_to_Diet_Plan  \\\n",
       "0           Mexican                    3.1                    96.6   \n",
       "1           Chinese                    4.5                    63.2   \n",
       "2           Chinese                    3.8                    57.5   \n",
       "3           Mexican                    4.3                    54.5   \n",
       "4           Italian                    9.8                    78.2   \n",
       "\n",
       "   Dietary_Nutrient_Imbalance_Score Diet_Recommendation  \n",
       "0                               3.1            Balanced  \n",
       "1                               0.6            Low_Carb  \n",
       "2                               4.6          Low_Sodium  \n",
       "3                               0.4            Balanced  \n",
       "4                               4.7            Low_Carb  "
      ]
     },
     "execution_count": 5,
     "metadata": {},
     "output_type": "execute_result"
    }
   ],
   "source": [
    "# Display first few rows\n",
    "df.head()"
   ]
  },
  {
   "cell_type": "code",
   "execution_count": null,
   "id": "3e1479de",
   "metadata": {},
   "outputs": [
    {
     "data": {
      "text/plain": [
       "['Patient_ID',\n",
       " 'Age',\n",
       " 'Gender',\n",
       " 'Weight_kg',\n",
       " 'Height_cm',\n",
       " 'BMI',\n",
       " 'Disease_Type',\n",
       " 'Severity',\n",
       " 'Physical_Activity_Level',\n",
       " 'Daily_Caloric_Intake',\n",
       " 'Cholesterol_mg/dL',\n",
       " 'Blood_Pressure_mmHg',\n",
       " 'Glucose_mg/dL',\n",
       " 'Dietary_Restrictions',\n",
       " 'Allergies',\n",
       " 'Preferred_Cuisine',\n",
       " 'Weekly_Exercise_Hours',\n",
       " 'Adherence_to_Diet_Plan',\n",
       " 'Dietary_Nutrient_Imbalance_Score',\n",
       " 'Diet_Recommendation']"
      ]
     },
     "execution_count": 6,
     "metadata": {},
     "output_type": "execute_result"
    }
   ],
   "source": [
    "df.columns.tolist()"
   ]
  },
  {
   "cell_type": "code",
   "execution_count": null,
   "id": "8b1e00e1",
   "metadata": {},
   "outputs": [
    {
     "data": {
      "text/plain": [
       "Patient_ID                           object\n",
       "Age                                   int64\n",
       "Gender                               object\n",
       "Weight_kg                           float64\n",
       "Height_cm                             int64\n",
       "BMI                                 float64\n",
       "Disease_Type                         object\n",
       "Severity                             object\n",
       "Physical_Activity_Level              object\n",
       "Daily_Caloric_Intake                  int64\n",
       "Cholesterol_mg/dL                   float64\n",
       "Blood_Pressure_mmHg                   int64\n",
       "Glucose_mg/dL                       float64\n",
       "Dietary_Restrictions                 object\n",
       "Allergies                            object\n",
       "Preferred_Cuisine                    object\n",
       "Weekly_Exercise_Hours               float64\n",
       "Adherence_to_Diet_Plan              float64\n",
       "Dietary_Nutrient_Imbalance_Score    float64\n",
       "Diet_Recommendation                  object\n",
       "dtype: object"
      ]
     },
     "execution_count": 7,
     "metadata": {},
     "output_type": "execute_result"
    }
   ],
   "source": [
    "df.dtypes"
   ]
  },
  {
   "cell_type": "code",
   "execution_count": null,
   "id": "665213e6",
   "metadata": {},
   "outputs": [
    {
     "data": {
      "text/html": [
       "<div>\n",
       "<style scoped>\n",
       "    .dataframe tbody tr th:only-of-type {\n",
       "        vertical-align: middle;\n",
       "    }\n",
       "\n",
       "    .dataframe tbody tr th {\n",
       "        vertical-align: top;\n",
       "    }\n",
       "\n",
       "    .dataframe thead th {\n",
       "        text-align: right;\n",
       "    }\n",
       "</style>\n",
       "<table border=\"1\" class=\"dataframe\">\n",
       "  <thead>\n",
       "    <tr style=\"text-align: right;\">\n",
       "      <th></th>\n",
       "      <th>Age</th>\n",
       "      <th>Weight_kg</th>\n",
       "      <th>Height_cm</th>\n",
       "      <th>BMI</th>\n",
       "      <th>Daily_Caloric_Intake</th>\n",
       "      <th>Cholesterol_mg/dL</th>\n",
       "      <th>Blood_Pressure_mmHg</th>\n",
       "      <th>Glucose_mg/dL</th>\n",
       "      <th>Weekly_Exercise_Hours</th>\n",
       "      <th>Adherence_to_Diet_Plan</th>\n",
       "      <th>Dietary_Nutrient_Imbalance_Score</th>\n",
       "    </tr>\n",
       "  </thead>\n",
       "  <tbody>\n",
       "    <tr>\n",
       "      <th>count</th>\n",
       "      <td>1000.000000</td>\n",
       "      <td>1000.000000</td>\n",
       "      <td>1000.00000</td>\n",
       "      <td>1000.000000</td>\n",
       "      <td>1000.000000</td>\n",
       "      <td>1000.000000</td>\n",
       "      <td>1000.000000</td>\n",
       "      <td>1000.000000</td>\n",
       "      <td>1000.000000</td>\n",
       "      <td>1000.00000</td>\n",
       "      <td>1000.000000</td>\n",
       "    </tr>\n",
       "    <tr>\n",
       "      <th>mean</th>\n",
       "      <td>49.857000</td>\n",
       "      <td>84.602400</td>\n",
       "      <td>174.81700</td>\n",
       "      <td>28.191600</td>\n",
       "      <td>2475.064000</td>\n",
       "      <td>199.717900</td>\n",
       "      <td>144.993000</td>\n",
       "      <td>136.867600</td>\n",
       "      <td>5.166000</td>\n",
       "      <td>74.88430</td>\n",
       "      <td>2.469200</td>\n",
       "    </tr>\n",
       "    <tr>\n",
       "      <th>std</th>\n",
       "      <td>18.114267</td>\n",
       "      <td>20.088121</td>\n",
       "      <td>14.33377</td>\n",
       "      <td>8.040136</td>\n",
       "      <td>565.017032</td>\n",
       "      <td>29.080614</td>\n",
       "      <td>20.245712</td>\n",
       "      <td>37.934819</td>\n",
       "      <td>2.847995</td>\n",
       "      <td>14.82638</td>\n",
       "      <td>1.459631</td>\n",
       "    </tr>\n",
       "    <tr>\n",
       "      <th>min</th>\n",
       "      <td>18.000000</td>\n",
       "      <td>50.000000</td>\n",
       "      <td>150.00000</td>\n",
       "      <td>13.000000</td>\n",
       "      <td>1500.000000</td>\n",
       "      <td>150.400000</td>\n",
       "      <td>110.000000</td>\n",
       "      <td>70.200000</td>\n",
       "      <td>0.000000</td>\n",
       "      <td>50.00000</td>\n",
       "      <td>0.000000</td>\n",
       "    </tr>\n",
       "    <tr>\n",
       "      <th>25%</th>\n",
       "      <td>35.000000</td>\n",
       "      <td>66.600000</td>\n",
       "      <td>162.00000</td>\n",
       "      <td>22.075000</td>\n",
       "      <td>1984.750000</td>\n",
       "      <td>174.300000</td>\n",
       "      <td>128.000000</td>\n",
       "      <td>105.000000</td>\n",
       "      <td>2.800000</td>\n",
       "      <td>62.00000</td>\n",
       "      <td>1.200000</td>\n",
       "    </tr>\n",
       "    <tr>\n",
       "      <th>50%</th>\n",
       "      <td>50.000000</td>\n",
       "      <td>85.200000</td>\n",
       "      <td>175.00000</td>\n",
       "      <td>27.450000</td>\n",
       "      <td>2470.500000</td>\n",
       "      <td>199.850000</td>\n",
       "      <td>145.000000</td>\n",
       "      <td>138.000000</td>\n",
       "      <td>5.200000</td>\n",
       "      <td>74.20000</td>\n",
       "      <td>2.400000</td>\n",
       "    </tr>\n",
       "    <tr>\n",
       "      <th>75%</th>\n",
       "      <td>66.000000</td>\n",
       "      <td>102.000000</td>\n",
       "      <td>187.00000</td>\n",
       "      <td>33.425000</td>\n",
       "      <td>2937.250000</td>\n",
       "      <td>224.850000</td>\n",
       "      <td>163.000000</td>\n",
       "      <td>170.650000</td>\n",
       "      <td>7.600000</td>\n",
       "      <td>88.20000</td>\n",
       "      <td>3.700000</td>\n",
       "    </tr>\n",
       "    <tr>\n",
       "      <th>max</th>\n",
       "      <td>79.000000</td>\n",
       "      <td>119.700000</td>\n",
       "      <td>199.00000</td>\n",
       "      <td>52.400000</td>\n",
       "      <td>3498.000000</td>\n",
       "      <td>249.900000</td>\n",
       "      <td>179.000000</td>\n",
       "      <td>200.000000</td>\n",
       "      <td>10.000000</td>\n",
       "      <td>100.00000</td>\n",
       "      <td>5.000000</td>\n",
       "    </tr>\n",
       "  </tbody>\n",
       "</table>\n",
       "</div>"
      ],
      "text/plain": [
       "               Age    Weight_kg   Height_cm          BMI  \\\n",
       "count  1000.000000  1000.000000  1000.00000  1000.000000   \n",
       "mean     49.857000    84.602400   174.81700    28.191600   \n",
       "std      18.114267    20.088121    14.33377     8.040136   \n",
       "min      18.000000    50.000000   150.00000    13.000000   \n",
       "25%      35.000000    66.600000   162.00000    22.075000   \n",
       "50%      50.000000    85.200000   175.00000    27.450000   \n",
       "75%      66.000000   102.000000   187.00000    33.425000   \n",
       "max      79.000000   119.700000   199.00000    52.400000   \n",
       "\n",
       "       Daily_Caloric_Intake  Cholesterol_mg/dL  Blood_Pressure_mmHg  \\\n",
       "count           1000.000000        1000.000000          1000.000000   \n",
       "mean            2475.064000         199.717900           144.993000   \n",
       "std              565.017032          29.080614            20.245712   \n",
       "min             1500.000000         150.400000           110.000000   \n",
       "25%             1984.750000         174.300000           128.000000   \n",
       "50%             2470.500000         199.850000           145.000000   \n",
       "75%             2937.250000         224.850000           163.000000   \n",
       "max             3498.000000         249.900000           179.000000   \n",
       "\n",
       "       Glucose_mg/dL  Weekly_Exercise_Hours  Adherence_to_Diet_Plan  \\\n",
       "count    1000.000000            1000.000000              1000.00000   \n",
       "mean      136.867600               5.166000                74.88430   \n",
       "std        37.934819               2.847995                14.82638   \n",
       "min        70.200000               0.000000                50.00000   \n",
       "25%       105.000000               2.800000                62.00000   \n",
       "50%       138.000000               5.200000                74.20000   \n",
       "75%       170.650000               7.600000                88.20000   \n",
       "max       200.000000              10.000000               100.00000   \n",
       "\n",
       "       Dietary_Nutrient_Imbalance_Score  \n",
       "count                       1000.000000  \n",
       "mean                           2.469200  \n",
       "std                            1.459631  \n",
       "min                            0.000000  \n",
       "25%                            1.200000  \n",
       "50%                            2.400000  \n",
       "75%                            3.700000  \n",
       "max                            5.000000  "
      ]
     },
     "execution_count": 8,
     "metadata": {},
     "output_type": "execute_result"
    }
   ],
   "source": [
    "# Get basic statistics\n",
    "df.describe()"
   ]
  },
  {
   "cell_type": "code",
   "execution_count": 9,
   "id": "7c701f43",
   "metadata": {},
   "outputs": [
    {
     "name": "stdout",
     "output_type": "stream",
     "text": [
      "<class 'pandas.core.frame.DataFrame'>\n",
      "RangeIndex: 1000 entries, 0 to 999\n",
      "Data columns (total 20 columns):\n",
      " #   Column                            Non-Null Count  Dtype  \n",
      "---  ------                            --------------  -----  \n",
      " 0   Patient_ID                        1000 non-null   object \n",
      " 1   Age                               1000 non-null   int64  \n",
      " 2   Gender                            1000 non-null   object \n",
      " 3   Weight_kg                         1000 non-null   float64\n",
      " 4   Height_cm                         1000 non-null   int64  \n",
      " 5   BMI                               1000 non-null   float64\n",
      " 6   Disease_Type                      796 non-null    object \n",
      " 7   Severity                          1000 non-null   object \n",
      " 8   Physical_Activity_Level           1000 non-null   object \n",
      " 9   Daily_Caloric_Intake              1000 non-null   int64  \n",
      " 10  Cholesterol_mg/dL                 1000 non-null   float64\n",
      " 11  Blood_Pressure_mmHg               1000 non-null   int64  \n",
      " 12  Glucose_mg/dL                     1000 non-null   float64\n",
      " 13  Dietary_Restrictions              666 non-null    object \n",
      " 14  Allergies                         677 non-null    object \n",
      " 15  Preferred_Cuisine                 1000 non-null   object \n",
      " 16  Weekly_Exercise_Hours             1000 non-null   float64\n",
      " 17  Adherence_to_Diet_Plan            1000 non-null   float64\n",
      " 18  Dietary_Nutrient_Imbalance_Score  1000 non-null   float64\n",
      " 19  Diet_Recommendation               1000 non-null   object \n",
      "dtypes: float64(7), int64(4), object(9)\n",
      "memory usage: 156.4+ KB\n"
     ]
    }
   ],
   "source": [
    "df.info()"
   ]
  },
  {
   "cell_type": "code",
   "execution_count": null,
   "id": "23fa0d81",
   "metadata": {},
   "outputs": [
    {
     "data": {
      "text/plain": [
       "Patient_ID                            0\n",
       "Age                                   0\n",
       "Gender                                0\n",
       "Weight_kg                             0\n",
       "Height_cm                             0\n",
       "BMI                                   0\n",
       "Disease_Type                        204\n",
       "Severity                              0\n",
       "Physical_Activity_Level               0\n",
       "Daily_Caloric_Intake                  0\n",
       "Cholesterol_mg/dL                     0\n",
       "Blood_Pressure_mmHg                   0\n",
       "Glucose_mg/dL                         0\n",
       "Dietary_Restrictions                334\n",
       "Allergies                           323\n",
       "Preferred_Cuisine                     0\n",
       "Weekly_Exercise_Hours                 0\n",
       "Adherence_to_Diet_Plan                0\n",
       "Dietary_Nutrient_Imbalance_Score      0\n",
       "Diet_Recommendation                   0\n",
       "dtype: int64"
      ]
     },
     "execution_count": 10,
     "metadata": {},
     "output_type": "execute_result"
    }
   ],
   "source": [
    "# Check for missing values\n",
    "df.isnull().sum()"
   ]
  },
  {
   "cell_type": "code",
   "execution_count": null,
   "id": "a6c8d090",
   "metadata": {},
   "outputs": [
    {
     "name": "stdout",
     "output_type": "stream",
     "text": [
      "Disease_Type unique value:\n",
      "Disease_Type\n",
      "Hypertension    316\n",
      "Diabetes        258\n",
      "Obesity         222\n",
      "NaN             204\n",
      "Name: count, dtype: int64\n",
      "------------------------------\n",
      "Dietary_Restrictions unique value:\n",
      "Dietary_Restrictions\n",
      "Low_Sodium    350\n",
      "NaN           334\n",
      "Low_Sugar     316\n",
      "Name: count, dtype: int64\n",
      "------------------------------\n",
      "Allergies unique value:\n",
      "Allergies\n",
      "Gluten     346\n",
      "Peanuts    331\n",
      "NaN        323\n",
      "Name: count, dtype: int64\n",
      "------------------------------\n"
     ]
    }
   ],
   "source": [
    "# Check missing value patterns\n",
    "missing_cols = ['Disease_Type', 'Dietary_Restrictions', 'Allergies']\n",
    "for col in missing_cols:\n",
    "    print(f\"{col} unique value:\")\n",
    "    print(df[col].value_counts(dropna=False))\n",
    "    print(\"-\"*30)"
   ]
  },
  {
   "cell_type": "code",
   "execution_count": null,
   "id": "216a7ee1",
   "metadata": {},
   "outputs": [
    {
     "data": {
      "text/plain": [
       "Patient_ID                          0\n",
       "Age                                 0\n",
       "Gender                              0\n",
       "Weight_kg                           0\n",
       "Height_cm                           0\n",
       "BMI                                 0\n",
       "Disease_Type                        0\n",
       "Severity                            0\n",
       "Physical_Activity_Level             0\n",
       "Daily_Caloric_Intake                0\n",
       "Cholesterol_mg/dL                   0\n",
       "Blood_Pressure_mmHg                 0\n",
       "Glucose_mg/dL                       0\n",
       "Dietary_Restrictions                0\n",
       "Allergies                           0\n",
       "Preferred_Cuisine                   0\n",
       "Weekly_Exercise_Hours               0\n",
       "Adherence_to_Diet_Plan              0\n",
       "Dietary_Nutrient_Imbalance_Score    0\n",
       "Diet_Recommendation                 0\n",
       "dtype: int64"
      ]
     },
     "execution_count": 12,
     "metadata": {},
     "output_type": "execute_result"
    }
   ],
   "source": [
    "# Change missing values to None\n",
    "df['Disease_Type'] = df['Disease_Type'].fillna('None')\n",
    "df['Dietary_Restrictions'] = df['Dietary_Restrictions'].fillna('None')\n",
    "df['Allergies'] = df['Allergies'].fillna('None')\n",
    "\n",
    "df.isnull().sum()"
   ]
  },
  {
   "cell_type": "code",
   "execution_count": 13,
   "id": "73f4505a",
   "metadata": {},
   "outputs": [
    {
     "name": "stdout",
     "output_type": "stream",
     "text": [
      "Patient_ID Duplicate Count: 0\n",
      "**************************************************\n"
     ]
    }
   ],
   "source": [
    "# Check Patient_ID duplicates first (most important)\n",
    "patient_duplicates = df['Patient_ID'].duplicated().sum()\n",
    "print(f\"Patient_ID Duplicate Count: {patient_duplicates}\")\n",
    "print(\"*\" * 50)"
   ]
  },
  {
   "cell_type": "code",
   "execution_count": 15,
   "id": "0aa14725",
   "metadata": {},
   "outputs": [
    {
     "name": "stdout",
     "output_type": "stream",
     "text": [
      "Weight_kg: 462 duplicates\n",
      "Height_cm: 950 duplicates\n",
      "BMI: 686 duplicates\n"
     ]
    }
   ],
   "source": [
    "# Optional : Quick check for suspicious duplicates\n",
    "suspicious_cols = ['Weight_kg', 'Height_cm', 'BMI']\n",
    "for col in suspicious_cols:\n",
    "    if col in df.columns:\n",
    "        dup_count = df[col].duplicated().sum()\n",
    "        print(f\"{col}: {dup_count} duplicates\")"
   ]
  },
  {
   "cell_type": "code",
   "execution_count": 16,
   "id": "a035ab69",
   "metadata": {},
   "outputs": [
    {
     "name": "stdout",
     "output_type": "stream",
     "text": [
      "== Duplicate Analysis ==\n",
      "Total patients: 1000\n",
      "Weight_kg: 462 duplicates (46.2)\n",
      "Height_cm: 950 duplicates (95.0)\n",
      "BMI: 686 duplicates (68.6)\n"
     ]
    }
   ],
   "source": [
    "# Check if these duplicates are normal\n",
    "print(\"== Duplicate Analysis ==\")\n",
    "total_rows = len(df)\n",
    "print(f\"Total patients: {total_rows}\")\n",
    "\n",
    "cols_to_check = ['Weight_kg', 'Height_cm', 'BMI']\n",
    "for col in cols_to_check:\n",
    "    if col in df.columns:\n",
    "        dup_count = df[col].duplicated().sum()\n",
    "        percentage = (dup_count / total_rows) * 100\n",
    "        print(f\"{col}: {dup_count} duplicates ({percentage:.1f})\")"
   ]
  },
  {
   "cell_type": "code",
   "execution_count": 17,
   "id": "2280bd4d",
   "metadata": {},
   "outputs": [
    {
     "name": "stdout",
     "output_type": "stream",
     "text": [
      "== Height Value Analysis ==\n",
      "Most common heights:\n",
      "Height_cm\n",
      "170    28\n",
      "177    28\n",
      "190    27\n",
      "184    27\n",
      "168    26\n",
      "198    26\n",
      "183    26\n",
      "160    25\n",
      "157    25\n",
      "196    25\n",
      "Name: count, dtype: int64\n",
      "\n",
      "Total unique height: 50\n",
      "Height range: 150 - 199\n"
     ]
    }
   ],
   "source": [
    "# Check actual height values and their frequencies\n",
    "print(\"== Height Value Analysis ==\")\n",
    "print(\"Most common heights:\")\n",
    "print(df['Height_cm'].value_counts().head(10))\n",
    "\n",
    "print(f\"\\nTotal unique height: {df['Height_cm'].nunique()}\")\n",
    "print(f\"Height range: {df['Height_cm'].min()} - {df['Height_cm'].max()}\")"
   ]
  },
  {
   "cell_type": "code",
   "execution_count": 20,
   "id": "7a59b80c",
   "metadata": {},
   "outputs": [
    {
     "name": "stdout",
     "output_type": "stream",
     "text": [
      "Constant features: []\n"
     ]
    }
   ],
   "source": [
    "#Check for constant feature (columns where all values are the same)\n",
    "constant_features = [col for col in df.columns if df[col].nunique() == 1]\n",
    "print(\"Constant features:\", constant_features)"
   ]
  },
  {
   "cell_type": "code",
   "execution_count": 22,
   "id": "f0d8a053",
   "metadata": {},
   "outputs": [
    {
     "name": "stdout",
     "output_type": "stream",
     "text": [
      "Age: 0 outliers (range: -11.5 - 112.5)\n",
      "**************************************************\n",
      "Weight_kg: 0 outliers (range: 13.5 - 155.1)\n",
      "**************************************************\n",
      "Height_cm: 0 outliers (range: 124.5 - 224.5)\n",
      "**************************************************\n",
      "BMI: 4 outliers (range: 5.1 - 50.4)\n",
      "**************************************************\n",
      "Daily_Caloric_Intake: 0 outliers (range: 556.0 - 4366.0)\n",
      "**************************************************\n",
      "Blood_Pressure_mmHg: 0 outliers (range: 75.5 - 215.5)\n",
      "**************************************************\n",
      "Weekly_Exercise_Hours: 0 outliers (range: -4.4 - 14.8)\n",
      "**************************************************\n"
     ]
    }
   ],
   "source": [
    "# IQR method for outlier detection\n",
    "def find_outliers_IQR_method(input_df, variable):\n",
    "    IQR = input_df[variable].quantile(0.75) - input_df[variable].quantile(0.25)\n",
    "    lower_limit = input_df[variable].quantile(0.25) - (IQR*1.5)\n",
    "    upper_limit = input_df[variable].quantile(0.75) + (IQR*1.5)\n",
    "    return lower_limit, upper_limit\n",
    "\n",
    "# Check outliers for numerical columns\n",
    "numeriacl_cols = ['Age', 'Weight_kg', 'Height_cm', 'BMI', 'Daily_Caloric_Intake', 'Cholesterol_mg_dL', \n",
    "                  'Blood_Pressure_mmHg', 'Clucose_mg_dL', 'Weekly_Exercise_Hours']\n",
    "\n",
    "for col in numeriacl_cols:\n",
    "    if col in df.columns:\n",
    "        lower, upper = find_outliers_IQR_method(df, col)\n",
    "        outliers_count = len(df[(df[col] < lower) | (df[col] > upper)])\n",
    "        print(f\"{col}: {outliers_count} outliers (range: {lower:.1f} - {upper:.1f})\")\n",
    "        print(\"*\"*50)"
   ]
  },
  {
   "cell_type": "code",
   "execution_count": 25,
   "id": "7bb04707",
   "metadata": {},
   "outputs": [
    {
     "name": "stdout",
     "output_type": "stream",
     "text": [
      "\n",
      "BMI Outlier Details:\n",
      "    Patient_ID   BMI  Weight_kg  Height_cm  Age  Disease_Type\n",
      "455      P0456  51.0      114.8        150   36  Hypertension\n",
      "323      P0324  51.4      117.3        151   23  Hypertension\n",
      "838      P0839  52.0      118.5        151   57      Diabetes\n",
      "830      P0831  52.4      119.5        151   75       Obesity\n"
     ]
    }
   ],
   "source": [
    "# Show outlier details with related columns\n",
    "print(\"\\nBMI Outlier Details:\")\n",
    "outlier_details = bmi_outliers[['Patient_ID', 'BMI', 'Weight_kg', 'Height_cm', 'Age', 'Disease_Type']].copy()\n",
    "print(outlier_details.sort_values('BMI'))"
   ]
  },
  {
   "cell_type": "code",
   "execution_count": 26,
   "id": "11345beb",
   "metadata": {},
   "outputs": [
    {
     "name": "stdout",
     "output_type": "stream",
     "text": [
      "== BMI Calculation Verification ==\n",
      "Patient P0456:\n",
      "  Calculated BMI: 51.0\n",
      "  Recorded BMI: 51.0\n",
      "  Match: True\n",
      "\n",
      "Patient P0324:\n",
      "  Calculated BMI: 51.4\n",
      "  Recorded BMI: 51.4\n",
      "  Match: True\n",
      "\n",
      "Patient P0839:\n",
      "  Calculated BMI: 52.0\n",
      "  Recorded BMI: 52.0\n",
      "  Match: True\n",
      "\n",
      "Patient P0831:\n",
      "  Calculated BMI: 52.4\n",
      "  Recorded BMI: 52.4\n",
      "  Match: True\n",
      "\n"
     ]
    }
   ],
   "source": [
    "# Verify BMI calculation in your dataset\n",
    "print(\"== BMI Calculation Verification ==\")\n",
    "outlier_patients = ['P0456', 'P0324', 'P0839', 'P0831']\n",
    "\n",
    "for patient_id in outlier_patients:\n",
    "    patient_data = df[df['Patient_ID'] == patient_id]\n",
    "    if not patient_data.empty:\n",
    "        weight = patient_data['Weight_kg'].iloc[0]\n",
    "        height_cm = patient_data['Height_cm'].iloc[0]\n",
    "        height_m = height_cm / 100\n",
    "        calculated_bmi = weight / (height_m ** 2)\n",
    "        recorded_bmi = patient_data['BMI'].iloc[0]\n",
    "        \n",
    "        print(f\"Patient {patient_id}:\")\n",
    "        print(f\"  Calculated BMI: {calculated_bmi:.1f}\")\n",
    "        print(f\"  Recorded BMI: {recorded_bmi:.1f}\")\n",
    "        print(f\"  Match: {abs(calculated_bmi - recorded_bmi) < 0.1}\")\n",
    "        print()"
   ]
  },
  {
   "cell_type": "code",
   "execution_count": null,
   "id": "63d02705",
   "metadata": {},
   "outputs": [],
   "source": []
  }
 ],
 "metadata": {
  "kernelspec": {
   "display_name": "comp647_env",
   "language": "python",
   "name": "python3"
  },
  "language_info": {
   "codemirror_mode": {
    "name": "ipython",
    "version": 3
   },
   "file_extension": ".py",
   "mimetype": "text/x-python",
   "name": "python",
   "nbconvert_exporter": "python",
   "pygments_lexer": "ipython3",
   "version": "3.12.11"
  }
 },
 "nbformat": 4,
 "nbformat_minor": 5
}
